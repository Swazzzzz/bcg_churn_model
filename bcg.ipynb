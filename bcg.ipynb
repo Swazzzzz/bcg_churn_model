{
 "cells": [
  {
   "cell_type": "code",
   "execution_count": null,
   "id": "2e4f32a9",
   "metadata": {
    "vscode": {
     "languageId": "plaintext"
    }
   },
   "outputs": [],
   "source": [
    "import pandas as pd\n",
    "\n",
    "client_df = pd.read_csv('client_data.csv')  # make sure file is in same folder\n",
    "price_df = pd.read_csv('price_data.csv')\n",
    "\n",
    "client_df.head()\n"
   ]
  },
  {
   "cell_type": "code",
   "execution_count": null,
   "id": "cc13033c",
   "metadata": {
    "vscode": {
     "languageId": "plaintext"
    }
   },
   "outputs": [],
   "source": [
    "client_df.isnull().sum().sort_values(ascending=False)\n"
   ]
  },
  {
   "cell_type": "code",
   "execution_count": null,
   "id": "36dfa4d3",
   "metadata": {
    "vscode": {
     "languageId": "plaintext"
    }
   },
   "outputs": [],
   "source": [
    "date_cols = ['date_activ', 'date_end', 'date_modif_prod', 'date_renewal']\n",
    "client_df[date_cols] = client_df[date_cols].apply(pd.to_datetime)\n",
    "client_df[date_cols].dtypes\n"
   ]
  },
  {
   "cell_type": "code",
   "execution_count": null,
   "id": "8e67c4a6",
   "metadata": {
    "vscode": {
     "languageId": "plaintext"
    }
   },
   "outputs": [],
   "source": [
    "client_df['channel_sales'].value_counts()\n",
    "client_df['origin_up'].value_counts()\n",
    "client_df['activity_new'].value_counts()\n"
   ]
  },
  {
   "cell_type": "code",
   "execution_count": null,
   "id": "1773a7d0",
   "metadata": {
    "vscode": {
     "languageId": "plaintext"
    }
   },
   "outputs": [],
   "source": [
    "client_df.describe()\n"
   ]
  },
  {
   "cell_type": "code",
   "execution_count": null,
   "id": "27fdec37",
   "metadata": {
    "vscode": {
     "languageId": "plaintext"
    }
   },
   "outputs": [],
   "source": [
    "client_df.to_csv('cleaned_client_data.csv', index=False)\n",
    "\n"
   ]
  },
  {
   "cell_type": "code",
   "execution_count": null,
   "id": "97431c99",
   "metadata": {
    "vscode": {
     "languageId": "plaintext"
    }
   },
   "outputs": [],
   "source": [
    "# Drop 'id' since it's just a unique label and doesn't help prediction\n",
    "df = df.drop(columns=['id'])\n",
    "\n",
    "# Find columns with only one unique value\n",
    "one_value_cols = [col for col in df.columns if df[col].nunique() == 1]\n",
    "print(\"Columns with only one unique value:\", one_value_cols)\n",
    "\n",
    "# Drop those columns too\n",
    "df = df.drop(columns=one_value_cols)\n",
    "\n",
    "# Check new shape of the data\n",
    "print(\"Shape after dropping useless columns:\", df.shape)\n"
   ]
  },
  {
   "cell_type": "code",
   "execution_count": null,
   "id": "278a7d86",
   "metadata": {
    "vscode": {
     "languageId": "plaintext"
    }
   },
   "outputs": [],
   "source": [
    "# Convert all date columns to datetime\n",
    "date_cols = ['date_activ', 'date_end', 'date_renewal', 'date_modif_prod']\n",
    "for col in date_cols:\n",
    "    df[col] = pd.to_datetime(df[col], errors='coerce')\n",
    "\n",
    "# Extract year, month, day from each date column\n",
    "for col in date_cols:\n",
    "    df[f\"{col}_year\"] = df[col].dt.year\n",
    "    df[f\"{col}_month\"] = df[col].dt.month\n",
    "    df[f\"{col}_day\"] = df[col].dt.day\n",
    "\n",
    "# Example feature: days between end and activation\n",
    "df['contract_duration_days'] = (df['date_end'] - df['date_activ']).dt.days\n",
    "\n",
    "# Example feature: days until renewal\n",
    "df['days_until_renewal'] = (df['date_renewal'] - df['date_modif_prod']).dt.days\n",
    "\n",
    "# Check new columns added\n",
    "df[['contract_duration_days', 'days_until_renewal']].head()\n"
   ]
  },
  {
   "cell_type": "code",
   "execution_count": null,
   "id": "e38f170b",
   "metadata": {
    "vscode": {
     "languageId": "plaintext"
    }
   },
   "outputs": [],
   "source": [
    "# Average monthly consumption\n",
    "df['avg_monthly_consumption'] = df['cons_12m'] / 12\n",
    "\n",
    "# Difference between last month and average consumption\n",
    "df['consumption_diff'] = df['cons_last_month'] - df['avg_monthly_consumption']\n",
    "\n",
    "# Margin per product\n",
    "df['margin_per_product'] = df['net_margin'] / df['nb_prod_act'].replace(0, 1)  # Avoid division by 0\n",
    "\n",
    "# Total forecast cost (simplified)\n",
    "df['forecast_total_cost'] = (\n",
    "    df['forecast_meter_rent_12m'] +\n",
    "    df['forecast_price_energy_off_peak'] +\n",
    "    df['forecast_price_energy_peak'] +\n",
    "    df['forecast_price_pow_off_peak']\n",
    ")\n",
    "\n",
    "# Check new features\n",
    "df[['avg_monthly_consumption', 'consumption_diff', 'margin_per_product', 'forecast_total_cost']].head()\n"
   ]
  },
  {
   "cell_type": "code",
   "execution_count": null,
   "id": "31e0a4af",
   "metadata": {
    "vscode": {
     "languageId": "plaintext"
    }
   },
   "outputs": [],
   "source": [
    "# (Optional) Drop original date columns to avoid duplicates\n",
    "df = df.drop(columns=['date_activ', 'date_end', 'date_modif_prod', 'date_renewal'])\n",
    "\n",
    "# Check final shape\n",
    "print(\"✅ Final shape:\", df.shape)\n",
    "\n",
    "# Save your final feature-engineered dataset\n",
    "df.to_csv(\"final_feature_engineered_data.csv\", index=False)\n",
    "print(\"✅ File saved as: final_feature_engineered_data.csv\")\n"
   ]
  },
  {
   "cell_type": "code",
   "execution_count": null,
   "id": "e671281b",
   "metadata": {
    "vscode": {
     "languageId": "plaintext"
    }
   },
   "outputs": [],
   "source": [
    "import pandas as pd\n",
    "\n",
    "# Load the final dataset\n",
    "df = pd.read_csv(\"data_for_predictions.csv\")\n",
    "df.head()\n"
   ]
  },
  {
   "cell_type": "code",
   "execution_count": null,
   "id": "f1b6e574",
   "metadata": {
    "vscode": {
     "languageId": "plaintext"
    }
   },
   "outputs": [],
   "source": [
    "# Separate features and target variable\n",
    "X = df.drop(columns=['churn'])  # All columns except churn\n",
    "y = df['churn']  # Target column\n",
    "\n",
    "# Optional: check class balance\n",
    "print(\"Churn value counts:\\n\", y.value_counts())\n"
   ]
  },
  {
   "cell_type": "code",
   "execution_count": null,
   "id": "cd837970",
   "metadata": {
    "vscode": {
     "languageId": "plaintext"
    }
   },
   "outputs": [],
   "source": [
    "from sklearn.model_selection import train_test_split\n",
    "\n",
    "# Split data into training and test sets\n",
    "X_train, X_test, y_train, y_test = train_test_split(\n",
    "    X, y, test_size=0.2, random_state=42, stratify=y)\n"
   ]
  },
  {
   "cell_type": "code",
   "execution_count": null,
   "id": "1d339e97",
   "metadata": {
    "vscode": {
     "languageId": "plaintext"
    }
   },
   "outputs": [],
   "source": [
    "from sklearn.ensemble import RandomForestClassifier\n",
    "\n",
    "# Initialize the model\n",
    "rf = RandomForestClassifier(n_estimators=100, random_state=42)\n",
    "\n",
    "# Fit the model\n",
    "rf.fit(X_train, y_train)\n"
   ]
  },
  {
   "cell_type": "code",
   "execution_count": null,
   "id": "e36cb6f9",
   "metadata": {
    "vscode": {
     "languageId": "plaintext"
    }
   },
   "outputs": [],
   "source": [
    "# Predict on test set\n",
    "y_pred = rf.predict(X_test)\n"
   ]
  },
  {
   "cell_type": "code",
   "execution_count": null,
   "id": "8843c907",
   "metadata": {
    "vscode": {
     "languageId": "plaintext"
    }
   },
   "outputs": [],
   "source": [
    "from sklearn.metrics import accuracy_score, precision_score, recall_score, f1_score, confusion_matrix\n",
    "\n",
    "# Evaluate\n",
    "accuracy = accuracy_score(y_test, y_pred)\n",
    "precision = precision_score(y_test, y_pred)\n",
    "recall = recall_score(y_test, y_pred)\n",
    "f1 = f1_score(y_test, y_pred)\n",
    "\n",
    "print(f\"Accuracy: {accuracy:.4f}\")\n",
    "print(f\"Precision: {precision:.4f}\")\n",
    "print(f\"Recall: {recall:.4f}\")\n",
    "print(f\"F1 Score: {f1:.4f}\")\n"
   ]
  },
  {
   "cell_type": "code",
   "execution_count": null,
   "id": "fa0e397e",
   "metadata": {
    "vscode": {
     "languageId": "plaintext"
    }
   },
   "outputs": [],
   "source": [
    "### Why These Metrics?\n",
    "\n",
    "We used Accuracy, Precision, Recall, and F1 Score:\n",
    "- **Accuracy** tells how many overall predictions were correct.\n",
    "- **Precision** tells how many predicted churns were actually churns.\n",
    "- **Recall** tells how many actual churns were detected.\n",
    "- **F1 Score** balances Precision and Recall — useful when classes are imbalanced.\n",
    "\n",
    "### Is the Model Good?\n",
    "\n",
    "The model performance depends on the use case. For churn prediction:\n",
    "- **High Recall** is important: catching as many churn risks as possible.\n",
    "- Our model achieves [insert scores] — which shows it’s a decent starting point.\n",
    "- We can improve it further using parameter tuning, feature selection, etc.\n"
   ]
  },
  {
   "cell_type": "code",
   "execution_count": null,
   "id": "36f0321f",
   "metadata": {
    "vscode": {
     "languageId": "plaintext"
    }
   },
   "outputs": [],
   "source": []
  }
 ],
 "metadata": {
  "language_info": {
   "name": "python"
  }
 },
 "nbformat": 4,
 "nbformat_minor": 5
}
